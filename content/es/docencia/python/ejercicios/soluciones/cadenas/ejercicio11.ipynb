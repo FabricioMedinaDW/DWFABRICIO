{
  "cells": [
    {
      "cell_type": "markdown",
      "metadata": {
        "id": "view-in-github",
        "colab_type": "text"
      },
      "source": [
        "<a href=\"https://colab.research.google.com/github/FabricioMedinaDW/DWFABRICIO/blob/main/content/es/docencia/python/ejercicios/soluciones/cadenas/ejercicio11.ipynb\" target=\"_parent\"><img src=\"https://colab.research.google.com/assets/colab-badge.svg\" alt=\"Open In Colab\"/></a>"
      ]
    },
    {
      "cell_type": "markdown",
      "metadata": {
        "id": "8zWA44q6axTE"
      },
      "source": [
        "## Ejercicio\n",
        "\n",
        "Escribir un programa que pregunte el nombre el un producto, su precio y un número de unidades y muestre por pantalla una cadena con el siguiente formato:\n",
        "\n",
        "`<producto>: <unidades> unidades x <precio>€ = <total>€`\n",
        "\n",
        "donde `<unidades>` es el número de unidades con cinco dígitos, `<precio>` es el precio unitario con 6 dígitos enteros y 2 decimales y `<total>` es el coste total con 8 dígitos enteros y 2 decimales."
      ]
    },
    {
      "cell_type": "markdown",
      "metadata": {
        "id": "c74ip2X4axTF"
      },
      "source": [
        "## Solución"
      ]
    },
    {
      "cell_type": "code",
      "execution_count": null,
      "metadata": {
        "id": "SxVDmAKtaxTG",
        "outputId": "61eff777-fe6d-47bd-f875-c951bb2fcfb4"
      },
      "outputs": [
        {
          "output_type": "stream",
          "name": "stdout",
          "text": [
            "Teléfono Acme: 200 unidades x    630.25€ =   126050.00€\n"
          ]
        }
      ],
      "source": [
        "producto = input('Introduce el nombre del producto: ')\n",
        "precio = float(input('Introducde el precio unitario: '))\n",
        "unidades = int(input('Introduce el número de unidades: '))\n",
        "print('{producto}: {unidades:3d} unidades x {precio:9.2f}€ = {total:11.2f}€'.format(producto = producto, unidades = unidades, precio = precio, total = unidades * precio))"
      ]
    },
    {
      "cell_type": "code",
      "execution_count": 1,
      "metadata": {
        "id": "63usXR_saxTH",
        "outputId": "a615e112-ab8e-403a-9b2c-94dae39adab4",
        "colab": {
          "base_uri": "https://localhost:8080/"
        }
      },
      "outputs": [
        {
          "output_type": "stream",
          "name": "stdout",
          "text": [
            "Ingrese su peso en kilogramos: 55\n",
            "Ingrese su altura en metros: 1.70\n",
            "Su IMC es: 19.03\n",
            "Interpretación: Peso normal\n"
          ]
        }
      ],
      "source": [
        "# prompt: genra un programa para medir el imc\n",
        "\n",
        "def calcular_imc(peso, altura):\n",
        "  \"\"\"Calcula el índice de masa corporal (IMC).\n",
        "\n",
        "  Args:\n",
        "    peso: El peso de la persona en kilogramos.\n",
        "    altura: La altura de la persona en metros.\n",
        "\n",
        "  Returns:\n",
        "    El IMC de la persona.\n",
        "  \"\"\"\n",
        "\n",
        "  imc = peso / (altura ** 2)\n",
        "  return imc\n",
        "\n",
        "def interpretar_imc(imc):\n",
        "  \"\"\"Interpreta el IMC y proporciona una clasificación.\n",
        "\n",
        "  Args:\n",
        "    imc: El índice de masa corporal.\n",
        "\n",
        "  Returns:\n",
        "    Una cadena de texto que describe la clasificación del IMC.\n",
        "  \"\"\"\n",
        "\n",
        "  if imc < 18.5:\n",
        "    return \"Bajo peso\"\n",
        "  elif imc < 25:\n",
        "    return \"Peso normal\"\n",
        "  elif imc < 30:\n",
        "    return \"Sobrepeso\"\n",
        "  else:\n",
        "    return \"Obesidad\"\n",
        "\n",
        "\n",
        "if __name__ == \"__main__\":\n",
        "  peso = float(input(\"Ingrese su peso en kilogramos: \"))\n",
        "  altura = float(input(\"Ingrese su altura en metros: \"))\n",
        "\n",
        "  imc = calcular_imc(peso, altura)\n",
        "  interpretacion = interpretar_imc(imc)\n",
        "\n",
        "  print(f\"Su IMC es: {imc:.2f}\")\n",
        "  print(f\"Interpretación: {interpretacion}\")\n"
      ]
    }
  ],
  "metadata": {
    "kernelspec": {
      "display_name": "Python 3",
      "language": "python",
      "name": "python3"
    },
    "language_info": {
      "codemirror_mode": {
        "name": "ipython",
        "version": 3
      },
      "file_extension": ".py",
      "mimetype": "text/x-python",
      "name": "python",
      "nbconvert_exporter": "python",
      "pygments_lexer": "ipython3",
      "version": "3.9.1-final"
    },
    "colab": {
      "provenance": [],
      "include_colab_link": true
    }
  },
  "nbformat": 4,
  "nbformat_minor": 0
}